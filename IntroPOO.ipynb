{
  "nbformat": 4,
  "nbformat_minor": 0,
  "metadata": {
    "colab": {
      "name": "IntroPOO.ipynb",
      "provenance": []
    },
    "kernelspec": {
      "name": "python3",
      "display_name": "Python 3"
    },
    "language_info": {
      "name": "python"
    }
  },
  "cells": [
    {
      "cell_type": "markdown",
      "source": [
        "# Introducción a la programación orientada a objetos\n",
        "\n"
      ],
      "metadata": {
        "id": "FHQuZzUnH1Pm"
      }
    },
    {
      "cell_type": "markdown",
      "source": [
        "Ventaja de usar este paradigma de programación: Evitar la repetición de código. Ejemplo:"
      ],
      "metadata": {
        "id": "UNvE1Nl3H92P"
      }
    },
    {
      "cell_type": "code",
      "source": [
        "class Persona:\n",
        "  nombre = 'Gerardo'"
      ],
      "metadata": {
        "id": "gtx33opRS2TN"
      },
      "execution_count": 1,
      "outputs": []
    },
    {
      "cell_type": "code",
      "source": [
        "persona1 = Persona()"
      ],
      "metadata": {
        "id": "nU1ST8frTJq7"
      },
      "execution_count": 2,
      "outputs": []
    },
    {
      "cell_type": "code",
      "source": [
        "print(persona1.nombre)"
      ],
      "metadata": {
        "colab": {
          "base_uri": "https://localhost:8080/"
        },
        "id": "DqyIcqcMTTbH",
        "outputId": "cf84ec81-b6d7-42fb-f55b-3a80e85d91f3"
      },
      "execution_count": 3,
      "outputs": [
        {
          "output_type": "stream",
          "name": "stdout",
          "text": [
            "Gerardo\n"
          ]
        }
      ]
    },
    {
      "cell_type": "code",
      "source": [
        "class Persona2: \n",
        "  nombre = 'Irma'"
      ],
      "metadata": {
        "id": "oFDKjg26TYjR"
      },
      "execution_count": 4,
      "outputs": []
    },
    {
      "cell_type": "code",
      "source": [
        "persona2 = Persona2()"
      ],
      "metadata": {
        "id": "rtAa1FPXTvxy"
      },
      "execution_count": 5,
      "outputs": []
    },
    {
      "cell_type": "code",
      "source": [
        "print(persona2.nombre)"
      ],
      "metadata": {
        "colab": {
          "base_uri": "https://localhost:8080/"
        },
        "id": "aVE9Yw9cT0zy",
        "outputId": "123b55b7-4058-4357-c55c-14ce7851b928"
      },
      "execution_count": 6,
      "outputs": [
        {
          "output_type": "stream",
          "name": "stdout",
          "text": [
            "Irma\n"
          ]
        }
      ]
    },
    {
      "cell_type": "markdown",
      "source": [
        "Podemos genreralizar a:"
      ],
      "metadata": {
        "id": "QvtaJ-FGIH6b"
      }
    },
    {
      "cell_type": "code",
      "source": [
        "class Person():\n",
        "\n",
        "  \"\"\"\n",
        "  Constructor - Método que es llamada automáticamemte cuando un objeto es creado.\n",
        "  Se debe escribir __init___ y self como parámetro para hacer referencia al objeto.\n",
        "  \"\"\"\n",
        "  def __init__(self, name, salario = 0 ): \n",
        "    self.name = name\n",
        "    self.salario = salario\n",
        "  \n",
        "  \"\"\"\n",
        "  Método - \"Acciones\" del objeto creado.\n",
        "  \"\"\"\n",
        "  def presentar(self):  \n",
        "    return f\"Hola, yo soy {self.salario}\"\n",
        "\n",
        "p1 = Person(\"John\",233)\n",
        "p2 = Person('Jose Luis',21334)\n",
        "\n",
        "print(p1.name)\n",
        "print(p2.name)\n",
        "\n",
        "print(p1.salario)\n",
        "print(p2.salario)\n",
        "\n",
        "\n",
        "p1.presentar()\n",
        "\n"
      ],
      "metadata": {
        "colab": {
          "base_uri": "https://localhost:8080/",
          "height": 105
        },
        "id": "AdeGWycTUVdT",
        "outputId": "9df8294b-5e27-4895-9dd8-33c1cb00b6f2"
      },
      "execution_count": 7,
      "outputs": [
        {
          "output_type": "stream",
          "name": "stdout",
          "text": [
            "John\n",
            "Jose Luis\n",
            "233\n",
            "21334\n"
          ]
        },
        {
          "output_type": "execute_result",
          "data": {
            "text/plain": [
              "'Hola, yo soy 233'"
            ],
            "application/vnd.google.colaboratory.intrinsic+json": {
              "type": "string"
            }
          },
          "metadata": {},
          "execution_count": 7
        }
      ]
    },
    {
      "cell_type": "markdown",
      "source": [
        "## Herencia\n",
        "\n",
        "Mecanismo que permite derivar objetos y metodos de una clase a otra. Es un concepto de la programación orientada a objetos.\n",
        "\n",
        "Ejemplo: Estudiante es una subclase de la clase Persona."
      ],
      "metadata": {
        "id": "BHXmfYo-Jkyg"
      }
    },
    {
      "cell_type": "code",
      "source": [
        "\"\"\"\n",
        "Especificar la nueva clase y entre paréntesis la clase madre. \n",
        "En caso de que la subclase tenga más atributos, tenemos dos opciones:\n",
        "\"\"\"\n",
        "class Estudiante(Person):\n",
        "  def __init__(self, beca, name, salario):\n",
        "    self.beca = beca\n",
        "\n",
        "    # Opción 1:\n",
        "    super().__init__(name, salario)\n",
        "\n",
        "    \"\"\"\n",
        "    Opción 2: Crear un nuevo constructor y guardar todas las variables\n",
        "    def __init__(self, beca, name, salario):\n",
        "    self.beca = beca\n",
        "    self.name = name\n",
        "    self.salario = salario\n",
        "    \"\"\""
      ],
      "metadata": {
        "id": "PM43qhd1caUi"
      },
      "execution_count": 9,
      "outputs": []
    },
    {
      "cell_type": "code",
      "source": [
        "estudiante1 =  Estudiante(12233, \"John\",232223)"
      ],
      "metadata": {
        "id": "XiKC2VapZESE"
      },
      "execution_count": 10,
      "outputs": []
    },
    {
      "cell_type": "code",
      "source": [
        "estudiante1.name"
      ],
      "metadata": {
        "colab": {
          "base_uri": "https://localhost:8080/",
          "height": 35
        },
        "id": "zAlCCUOIcvKE",
        "outputId": "d55c9d0b-35ec-490a-92be-d4bf950c6677"
      },
      "execution_count": 11,
      "outputs": [
        {
          "output_type": "execute_result",
          "data": {
            "text/plain": [
              "'John'"
            ],
            "application/vnd.google.colaboratory.intrinsic+json": {
              "type": "string"
            }
          },
          "metadata": {},
          "execution_count": 11
        }
      ]
    },
    {
      "cell_type": "code",
      "source": [
        "print(p1.salario)"
      ],
      "metadata": {
        "colab": {
          "base_uri": "https://localhost:8080/"
        },
        "id": "c8u-b-XUYIwd",
        "outputId": "c7c4deaf-2952-4798-b506-9e81bae582c6"
      },
      "execution_count": 12,
      "outputs": [
        {
          "output_type": "stream",
          "name": "stdout",
          "text": [
            "233\n"
          ]
        }
      ]
    },
    {
      "cell_type": "code",
      "source": [
        ""
      ],
      "metadata": {
        "id": "8zKh4exuMdHN"
      },
      "execution_count": null,
      "outputs": []
    }
  ]
}